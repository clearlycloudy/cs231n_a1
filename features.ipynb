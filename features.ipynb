{
 "cells": [
  {
   "cell_type": "markdown",
   "metadata": {
    "tags": [
     "pdf-title"
    ]
   },
   "source": [
    "# Image features exercise\n",
    "*Complete and hand in this completed worksheet (including its outputs and any supporting code outside of the worksheet) with your assignment submission. For more details see the [assignments page](http://vision.stanford.edu/teaching/cs231n/assignments.html) on the course website.*\n",
    "\n",
    "We have seen that we can achieve reasonable performance on an image classification task by training a linear classifier on the pixels of the input image. In this exercise we will show that we can improve our classification performance by training linear classifiers not on raw pixels but on features that are computed from the raw pixels.\n",
    "\n",
    "All of your work for this exercise will be done in this notebook."
   ]
  },
  {
   "cell_type": "code",
   "execution_count": 1,
   "metadata": {
    "tags": [
     "pdf-ignore"
    ]
   },
   "outputs": [],
   "source": [
    "import random\n",
    "import numpy as np\n",
    "from cs231n.data_utils import load_CIFAR10\n",
    "import matplotlib.pyplot as plt\n",
    "\n",
    "\n",
    "%matplotlib inline\n",
    "plt.rcParams['figure.figsize'] = (10.0, 8.0) # set default size of plots\n",
    "plt.rcParams['image.interpolation'] = 'nearest'\n",
    "plt.rcParams['image.cmap'] = 'gray'\n",
    "\n",
    "# for auto-reloading extenrnal modules\n",
    "# see http://stackoverflow.com/questions/1907993/autoreload-of-modules-in-ipython\n",
    "%load_ext autoreload\n",
    "%autoreload 2"
   ]
  },
  {
   "cell_type": "markdown",
   "metadata": {
    "tags": [
     "pdf-ignore"
    ]
   },
   "source": [
    "## Load data\n",
    "Similar to previous exercises, we will load CIFAR-10 data from disk."
   ]
  },
  {
   "cell_type": "code",
   "execution_count": 2,
   "metadata": {
    "tags": [
     "pdf-ignore"
    ]
   },
   "outputs": [],
   "source": [
    "from cs231n.features import color_histogram_hsv, hog_feature\n",
    "\n",
    "def get_CIFAR10_data(num_training=49000, num_validation=1000, num_test=1000):\n",
    "    # Load the raw CIFAR-10 data\n",
    "    cifar10_dir = 'cs231n/datasets/cifar-10-batches-py'\n",
    "\n",
    "    # Cleaning up variables to prevent loading data multiple times (which may cause memory issue)\n",
    "    try:\n",
    "       del X_train, y_train\n",
    "       del X_test, y_test\n",
    "       print('Clear previously loaded data.')\n",
    "    except:\n",
    "       pass\n",
    "\n",
    "    X_train, y_train, X_test, y_test = load_CIFAR10(cifar10_dir)\n",
    "    \n",
    "    # Subsample the data\n",
    "    mask = list(range(num_training, num_training + num_validation))\n",
    "    X_val = X_train[mask]\n",
    "    y_val = y_train[mask]\n",
    "    mask = list(range(num_training))\n",
    "    X_train = X_train[mask]\n",
    "    y_train = y_train[mask]\n",
    "    mask = list(range(num_test))\n",
    "    X_test = X_test[mask]\n",
    "    y_test = y_test[mask]\n",
    "    \n",
    "    return X_train, y_train, X_val, y_val, X_test, y_test\n",
    "\n",
    "X_train, y_train, X_val, y_val, X_test, y_test = get_CIFAR10_data()"
   ]
  },
  {
   "cell_type": "markdown",
   "metadata": {
    "tags": [
     "pdf-ignore"
    ]
   },
   "source": [
    "## Extract Features\n",
    "For each image we will compute a Histogram of Oriented\n",
    "Gradients (HOG) as well as a color histogram using the hue channel in HSV\n",
    "color space. We form our final feature vector for each image by concatenating\n",
    "the HOG and color histogram feature vectors.\n",
    "\n",
    "Roughly speaking, HOG should capture the texture of the image while ignoring\n",
    "color information, and the color histogram represents the color of the input\n",
    "image while ignoring texture. As a result, we expect that using both together\n",
    "ought to work better than using either alone. Verifying this assumption would\n",
    "be a good thing to try for your own interest.\n",
    "\n",
    "The `hog_feature` and `color_histogram_hsv` functions both operate on a single\n",
    "image and return a feature vector for that image. The extract_features\n",
    "function takes a set of images and a list of feature functions and evaluates\n",
    "each feature function on each image, storing the results in a matrix where\n",
    "each column is the concatenation of all feature vectors for a single image."
   ]
  },
  {
   "cell_type": "code",
   "execution_count": 3,
   "metadata": {
    "scrolled": true,
    "tags": [
     "pdf-ignore"
    ]
   },
   "outputs": [
    {
     "name": "stdout",
     "output_type": "stream",
     "text": [
      "Done extracting features for 1000 / 49000 images\n",
      "Done extracting features for 2000 / 49000 images\n",
      "Done extracting features for 3000 / 49000 images\n",
      "Done extracting features for 4000 / 49000 images\n",
      "Done extracting features for 5000 / 49000 images\n",
      "Done extracting features for 6000 / 49000 images\n",
      "Done extracting features for 7000 / 49000 images\n",
      "Done extracting features for 8000 / 49000 images\n",
      "Done extracting features for 9000 / 49000 images\n",
      "Done extracting features for 10000 / 49000 images\n",
      "Done extracting features for 11000 / 49000 images\n",
      "Done extracting features for 12000 / 49000 images\n",
      "Done extracting features for 13000 / 49000 images\n",
      "Done extracting features for 14000 / 49000 images\n",
      "Done extracting features for 15000 / 49000 images\n",
      "Done extracting features for 16000 / 49000 images\n",
      "Done extracting features for 17000 / 49000 images\n",
      "Done extracting features for 18000 / 49000 images\n",
      "Done extracting features for 19000 / 49000 images\n",
      "Done extracting features for 20000 / 49000 images\n",
      "Done extracting features for 21000 / 49000 images\n",
      "Done extracting features for 22000 / 49000 images\n",
      "Done extracting features for 23000 / 49000 images\n",
      "Done extracting features for 24000 / 49000 images\n",
      "Done extracting features for 25000 / 49000 images\n",
      "Done extracting features for 26000 / 49000 images\n",
      "Done extracting features for 27000 / 49000 images\n",
      "Done extracting features for 28000 / 49000 images\n",
      "Done extracting features for 29000 / 49000 images\n",
      "Done extracting features for 30000 / 49000 images\n",
      "Done extracting features for 31000 / 49000 images\n",
      "Done extracting features for 32000 / 49000 images\n",
      "Done extracting features for 33000 / 49000 images\n",
      "Done extracting features for 34000 / 49000 images\n",
      "Done extracting features for 35000 / 49000 images\n",
      "Done extracting features for 36000 / 49000 images\n",
      "Done extracting features for 37000 / 49000 images\n",
      "Done extracting features for 38000 / 49000 images\n",
      "Done extracting features for 39000 / 49000 images\n",
      "Done extracting features for 40000 / 49000 images\n",
      "Done extracting features for 41000 / 49000 images\n",
      "Done extracting features for 42000 / 49000 images\n",
      "Done extracting features for 43000 / 49000 images\n",
      "Done extracting features for 44000 / 49000 images\n",
      "Done extracting features for 45000 / 49000 images\n",
      "Done extracting features for 46000 / 49000 images\n",
      "Done extracting features for 47000 / 49000 images\n",
      "Done extracting features for 48000 / 49000 images\n",
      "Done extracting features for 49000 / 49000 images\n"
     ]
    }
   ],
   "source": [
    "from cs231n.features import *\n",
    "\n",
    "num_color_bins = 10 # Number of bins in the color histogram\n",
    "feature_fns = [hog_feature, lambda img: color_histogram_hsv(img, nbin=num_color_bins)]\n",
    "X_train_feats = extract_features(X_train, feature_fns, verbose=True)\n",
    "X_val_feats = extract_features(X_val, feature_fns)\n",
    "X_test_feats = extract_features(X_test, feature_fns)\n",
    "\n",
    "# Preprocessing: Subtract the mean feature\n",
    "mean_feat = np.mean(X_train_feats, axis=0, keepdims=True)\n",
    "X_train_feats -= mean_feat\n",
    "X_val_feats -= mean_feat\n",
    "X_test_feats -= mean_feat\n",
    "\n",
    "# Preprocessing: Divide by standard deviation. This ensures that each feature\n",
    "# has roughly the same scale.\n",
    "std_feat = np.std(X_train_feats, axis=0, keepdims=True)\n",
    "X_train_feats /= std_feat\n",
    "X_val_feats /= std_feat\n",
    "X_test_feats /= std_feat\n",
    "\n",
    "# Preprocessing: Add a bias dimension\n",
    "X_train_feats = np.hstack([X_train_feats, np.ones((X_train_feats.shape[0], 1))])\n",
    "X_val_feats = np.hstack([X_val_feats, np.ones((X_val_feats.shape[0], 1))])\n",
    "X_test_feats = np.hstack([X_test_feats, np.ones((X_test_feats.shape[0], 1))])"
   ]
  },
  {
   "cell_type": "markdown",
   "metadata": {},
   "source": [
    "## Train SVM on features\n",
    "Using the multiclass SVM code developed earlier in the assignment, train SVMs on top of the features extracted above; this should achieve better results than training SVMs directly on top of raw pixels."
   ]
  },
  {
   "cell_type": "code",
   "execution_count": 6,
   "metadata": {
    "tags": [
     "code"
    ]
   },
   "outputs": [
    {
     "name": "stdout",
     "output_type": "stream",
     "text": [
      "num_training:  49000\n",
      "l,r: 1e-09 50000.0\n",
      "iteration 0 / 2500: loss 82.520800\n",
      "iteration 100 / 2500: loss 81.059750\n",
      "iteration 200 / 2500: loss 79.631574\n",
      "iteration 300 / 2500: loss 78.238132\n",
      "iteration 400 / 2500: loss 76.857991\n",
      "iteration 500 / 2500: loss 75.528848\n",
      "iteration 600 / 2500: loss 74.204478\n",
      "iteration 700 / 2500: loss 72.908157\n",
      "iteration 800 / 2500: loss 71.648128\n",
      "iteration 900 / 2500: loss 70.395278\n",
      "iteration 1000 / 2500: loss 69.196327\n",
      "iteration 1100 / 2500: loss 68.000270\n",
      "iteration 1200 / 2500: loss 66.821224\n",
      "iteration 1300 / 2500: loss 65.683959\n",
      "iteration 1400 / 2500: loss 64.558040\n",
      "iteration 1500 / 2500: loss 63.465562\n",
      "iteration 1600 / 2500: loss 62.388039\n",
      "iteration 1700 / 2500: loss 61.327791\n",
      "iteration 1800 / 2500: loss 60.297192\n",
      "iteration 1900 / 2500: loss 59.274759\n",
      "iteration 2000 / 2500: loss 58.278674\n",
      "iteration 2100 / 2500: loss 57.298767\n",
      "iteration 2200 / 2500: loss 56.343574\n",
      "iteration 2300 / 2500: loss 55.407601\n",
      "iteration 2400 / 2500: loss 54.486590\n",
      "[(0.08359183673469388, 0.088)]\n",
      "validation accuracy: 0.088000\n",
      "l,r: 1e-09 500000.0\n",
      "iteration 0 / 2500: loss 779.569218\n",
      "iteration 100 / 2500: loss 639.821444\n",
      "iteration 200 / 2500: loss 525.420081\n",
      "iteration 300 / 2500: loss 431.752890\n",
      "iteration 400 / 2500: loss 355.094292\n",
      "iteration 500 / 2500: loss 292.334312\n",
      "iteration 600 / 2500: loss 240.951816\n",
      "iteration 700 / 2500: loss 198.880970\n",
      "iteration 800 / 2500: loss 164.450851\n",
      "iteration 900 / 2500: loss 136.256656\n",
      "iteration 1000 / 2500: loss 113.183260\n",
      "iteration 1100 / 2500: loss 94.287041\n",
      "iteration 1200 / 2500: loss 78.816979\n",
      "iteration 1300 / 2500: loss 66.157656\n",
      "iteration 1400 / 2500: loss 55.792495\n",
      "iteration 1500 / 2500: loss 47.308731\n",
      "iteration 1600 / 2500: loss 40.356574\n",
      "iteration 1700 / 2500: loss 34.676440\n",
      "iteration 1800 / 2500: loss 30.016429\n",
      "iteration 1900 / 2500: loss 26.207553\n",
      "iteration 2000 / 2500: loss 23.086359\n",
      "iteration 2100 / 2500: loss 20.529832\n",
      "iteration 2200 / 2500: loss 18.439430\n",
      "iteration 2300 / 2500: loss 16.729110\n",
      "iteration 2400 / 2500: loss 15.327272\n",
      "[(0.09408163265306123, 0.113)]\n",
      "validation accuracy: 0.113000\n",
      "l,r: 1e-09 5000000.0\n",
      "iteration 0 / 2500: loss 7927.919698\n",
      "iteration 100 / 2500: loss 1069.971728\n",
      "iteration 200 / 2500: loss 151.147727\n",
      "iteration 300 / 2500: loss 28.045611\n",
      "iteration 400 / 2500: loss 11.551535\n",
      "iteration 500 / 2500: loss 9.341832\n",
      "iteration 600 / 2500: loss 9.045772\n",
      "iteration 700 / 2500: loss 9.006124\n",
      "iteration 800 / 2500: loss 9.000819\n",
      "iteration 900 / 2500: loss 9.000107\n",
      "iteration 1000 / 2500: loss 9.000012\n",
      "iteration 1100 / 2500: loss 8.999998\n",
      "iteration 1200 / 2500: loss 8.999997\n",
      "iteration 1300 / 2500: loss 8.999998\n",
      "iteration 1400 / 2500: loss 8.999997\n",
      "iteration 1500 / 2500: loss 8.999997\n",
      "iteration 1600 / 2500: loss 8.999997\n",
      "iteration 1700 / 2500: loss 8.999996\n",
      "iteration 1800 / 2500: loss 8.999997\n",
      "iteration 1900 / 2500: loss 8.999996\n",
      "iteration 2000 / 2500: loss 8.999997\n",
      "iteration 2100 / 2500: loss 8.999996\n",
      "iteration 2200 / 2500: loss 8.999997\n",
      "iteration 2300 / 2500: loss 8.999997\n",
      "iteration 2400 / 2500: loss 8.999997\n",
      "[(0.4116326530612245, 0.409)]\n",
      "validation accuracy: 0.409000\n",
      "l,r: 1e-08 50000.0\n",
      "iteration 0 / 2500: loss 83.244733\n",
      "iteration 100 / 2500: loss 69.776355\n",
      "iteration 200 / 2500: loss 58.744386\n",
      "iteration 300 / 2500: loss 49.728926\n",
      "iteration 400 / 2500: loss 42.336985\n",
      "iteration 500 / 2500: loss 36.293533\n",
      "iteration 600 / 2500: loss 31.342242\n",
      "iteration 700 / 2500: loss 27.300346\n",
      "iteration 800 / 2500: loss 23.973483\n",
      "iteration 900 / 2500: loss 21.261000\n",
      "iteration 1000 / 2500: loss 19.031717\n",
      "iteration 1100 / 2500: loss 17.214472\n",
      "iteration 1200 / 2500: loss 15.726422\n",
      "iteration 1300 / 2500: loss 14.500902\n",
      "iteration 1400 / 2500: loss 13.508519\n",
      "iteration 1500 / 2500: loss 12.693450\n",
      "iteration 1600 / 2500: loss 12.018427\n",
      "iteration 1700 / 2500: loss 11.472109\n"
     ]
    },
    {
     "ename": "KeyboardInterrupt",
     "evalue": "",
     "output_type": "error",
     "traceback": [
      "\u001b[0;31m---------------------------------------------------------------------------\u001b[0m",
      "\u001b[0;31mKeyboardInterrupt\u001b[0m                         Traceback (most recent call last)",
      "\u001b[0;32m<ipython-input-6-a7815657d609>\u001b[0m in \u001b[0;36m<module>\u001b[0;34m\u001b[0m\n\u001b[1;32m     63\u001b[0m         \u001b[0mv_label\u001b[0m \u001b[0;34m=\u001b[0m \u001b[0my_val\u001b[0m\u001b[0;34m\u001b[0m\u001b[0;34m\u001b[0m\u001b[0m\n\u001b[1;32m     64\u001b[0m \u001b[0;34m\u001b[0m\u001b[0m\n\u001b[0;32m---> 65\u001b[0;31m         \u001b[0msvm_temp\u001b[0m\u001b[0;34m.\u001b[0m\u001b[0mtrain\u001b[0m\u001b[0;34m(\u001b[0m\u001b[0mt_set\u001b[0m\u001b[0;34m,\u001b[0m \u001b[0mt_label_set\u001b[0m\u001b[0;34m,\u001b[0m \u001b[0ml\u001b[0m\u001b[0;34m,\u001b[0m \u001b[0mr\u001b[0m\u001b[0;34m,\u001b[0m \u001b[0mnum_iters\u001b[0m\u001b[0;34m=\u001b[0m\u001b[0;36m2500\u001b[0m\u001b[0;34m,\u001b[0m \u001b[0mverbose\u001b[0m\u001b[0;34m=\u001b[0m\u001b[0;32mTrue\u001b[0m\u001b[0;34m)\u001b[0m\u001b[0;34m\u001b[0m\u001b[0;34m\u001b[0m\u001b[0m\n\u001b[0m\u001b[1;32m     66\u001b[0m \u001b[0;34m\u001b[0m\u001b[0m\n\u001b[1;32m     67\u001b[0m         \u001b[0mpred_train\u001b[0m \u001b[0;34m=\u001b[0m \u001b[0msvm_temp\u001b[0m\u001b[0;34m.\u001b[0m\u001b[0mpredict\u001b[0m\u001b[0;34m(\u001b[0m\u001b[0mt_set\u001b[0m\u001b[0;34m)\u001b[0m\u001b[0;34m\u001b[0m\u001b[0;34m\u001b[0m\u001b[0m\n",
      "\u001b[0;32m~/repo/cs231n_a1/cs231n/classifiers/linear_classifier.py\u001b[0m in \u001b[0;36mtrain\u001b[0;34m(self, X, y, learning_rate, reg, num_iters, batch_size, verbose)\u001b[0m\n\u001b[1;32m     58\u001b[0m             \u001b[0;31m# *****START OF YOUR CODE (DO NOT DELETE/MODIFY THIS LINE)*****\u001b[0m\u001b[0;34m\u001b[0m\u001b[0;34m\u001b[0m\u001b[0;34m\u001b[0m\u001b[0m\n\u001b[1;32m     59\u001b[0m \u001b[0;34m\u001b[0m\u001b[0m\n\u001b[0;32m---> 60\u001b[0;31m             \u001b[0mindices\u001b[0m \u001b[0;34m=\u001b[0m \u001b[0mnp\u001b[0m\u001b[0;34m.\u001b[0m\u001b[0mrandom\u001b[0m\u001b[0;34m.\u001b[0m\u001b[0mchoice\u001b[0m\u001b[0;34m(\u001b[0m\u001b[0mrange\u001b[0m\u001b[0;34m(\u001b[0m\u001b[0;36m0\u001b[0m\u001b[0;34m,\u001b[0m\u001b[0mnum_train\u001b[0m\u001b[0;34m)\u001b[0m\u001b[0;34m,\u001b[0m \u001b[0mbatch_size\u001b[0m\u001b[0;34m)\u001b[0m\u001b[0;34m\u001b[0m\u001b[0;34m\u001b[0m\u001b[0m\n\u001b[0m\u001b[1;32m     61\u001b[0m             \u001b[0mX_batch\u001b[0m \u001b[0;34m=\u001b[0m \u001b[0mX\u001b[0m\u001b[0;34m[\u001b[0m\u001b[0mindices\u001b[0m\u001b[0;34m,\u001b[0m\u001b[0;34m:\u001b[0m\u001b[0;34m]\u001b[0m\u001b[0;34m\u001b[0m\u001b[0;34m\u001b[0m\u001b[0m\n\u001b[1;32m     62\u001b[0m             \u001b[0my_batch\u001b[0m \u001b[0;34m=\u001b[0m \u001b[0my\u001b[0m\u001b[0;34m[\u001b[0m\u001b[0mindices\u001b[0m\u001b[0;34m]\u001b[0m\u001b[0;34m\u001b[0m\u001b[0;34m\u001b[0m\u001b[0m\n",
      "\u001b[0;32mmtrand.pyx\u001b[0m in \u001b[0;36mnumpy.random.mtrand.RandomState.choice\u001b[0;34m()\u001b[0m\n",
      "\u001b[0;32m<__array_function__ internals>\u001b[0m in \u001b[0;36mprod\u001b[0;34m(*args, **kwargs)\u001b[0m\n",
      "\u001b[0;31mKeyboardInterrupt\u001b[0m: "
     ]
    }
   ],
   "source": [
    "# Use the validation set to tune the learning rate and regularization strength\n",
    "\n",
    "from cs231n.classifiers.linear_classifier import LinearSVM\n",
    "\n",
    "learning_rates = [1e-9, 5e-9, 1e-8, 1e-7]\n",
    "regularization_strengths = [5e4, 5e5, 5e6, 2e7]\n",
    "\n",
    "results = {}\n",
    "best_val = -1\n",
    "best_svm = None\n",
    "\n",
    "################################################################################\n",
    "# TODO:                                                                        #\n",
    "# Use the validation set to set the learning rate and regularization strength. #\n",
    "# This should be identical to the validation that you did for the SVM; save    #\n",
    "# the best trained classifer in best_svm. You might also want to play          #\n",
    "# with different numbers of bins in the color histogram. If you are careful    #\n",
    "# you should be able to get accuracy of near 0.44 on the validation set.       #\n",
    "################################################################################\n",
    "# *****START OF YOUR CODE (DO NOT DELETE/MODIFY THIS LINE)*****\n",
    "\n",
    "#divide training into folds\n",
    "num_training = X_train_feats.shape[0]\n",
    "\n",
    "print(\"num_training: \", num_training)\n",
    "\n",
    "folds = []\n",
    "folds_label = []\n",
    "num_folds = 1\n",
    "num_data_per_fold = num_training / num_folds\n",
    "\n",
    "for i in range(num_folds):\n",
    "    folds.append(X_train_feats[int(i*num_data_per_fold):int((i+1)*num_data_per_fold),:])\n",
    "    folds_label.append(y_train[int(i*num_data_per_fold):int((i+1)*num_data_per_fold)])\n",
    "    \n",
    "parameters = [ (l,r) for l in learning_rates for r in regularization_strengths ]\n",
    "\n",
    "from functools import reduce\n",
    "\n",
    "for (l,r) in parameters:\n",
    "    \n",
    "    accuracies = []\n",
    "    \n",
    "    print(\"l,r:\", l,r)\n",
    "    \n",
    "    svm_temp = LinearSVM()\n",
    "    \n",
    "    for i in range(num_folds):\n",
    "        \n",
    "        svm_temp = LinearSVM()\n",
    "        \n",
    "        #training_set = [folds[j] for j in range(num_folds) if j != i]\n",
    "        #training_label = [folds_label[j] for j in range(num_folds) if j != i]\n",
    "        \n",
    "        training_set = [folds[j] for j in range(num_folds)]\n",
    "        training_label = [folds_label[j] for j in range(num_folds)]\n",
    "        \n",
    "        t_set = np.concatenate(training_set)\n",
    "        t_label_set = np.concatenate(training_label)\n",
    "        #v_set = folds[i]\n",
    "        #v_label = folds_label[i]\n",
    "        v_set = X_val_feats\n",
    "        v_label = y_val\n",
    "        \n",
    "        svm_temp.train(t_set, t_label_set, l, r, num_iters=2500, verbose=True)\n",
    "        \n",
    "        pred_train = svm_temp.predict(t_set)\n",
    "        pred_validate = svm_temp.predict(v_set)\n",
    "        \n",
    "        accuracy_train = np.mean(pred_train == t_label_set)\n",
    "        accuracy_validation = np.mean(pred_validate == v_label)\n",
    "        \n",
    "        accuracies.append((accuracy_train,accuracy_validation))\n",
    "\n",
    "    print(accuracies)\n",
    "\n",
    "    accuracy = reduce(lambda a,b: (a[0]+b[0],a[1]+b[1]), accuracies, (0,0))\n",
    "    \n",
    "    f = 1.0/len(accuracies)\n",
    "\n",
    "    results[l,r] = (accuracy[0]*f, accuracy[1]*f)\n",
    "    if accuracy[1]*f > best_val:\n",
    "        best_svm = svm_temp\n",
    "    best_val = max(best_val,accuracy[1]*f)\n",
    "    print('validation accuracy: %f' % (accuracy[1]*f))    \n",
    "\n",
    "# *****END OF YOUR CODE (DO NOT DELETE/MODIFY THIS LINE)*****\n",
    "\n",
    "# Print out results.\n",
    "for lr, reg in sorted(results):\n",
    "    train_accuracy, val_accuracy = results[(lr, reg)]\n",
    "    print('lr %e reg %e train accuracy: %f val accuracy: %f' % (\n",
    "                lr, reg, train_accuracy, val_accuracy))\n",
    "    \n",
    "print('best validation accuracy achieved during cross-validation: %f' % best_val)"
   ]
  },
  {
   "cell_type": "code",
   "execution_count": null,
   "metadata": {},
   "outputs": [],
   "source": [
    "# Evaluate your trained SVM on the test set\n",
    "y_test_pred = best_svm.predict(X_test_feats)\n",
    "test_accuracy = np.mean(y_test == y_test_pred)\n",
    "print(test_accuracy)"
   ]
  },
  {
   "cell_type": "code",
   "execution_count": null,
   "metadata": {},
   "outputs": [],
   "source": [
    "# An important way to gain intuition about how an algorithm works is to\n",
    "# visualize the mistakes that it makes. In this visualization, we show examples\n",
    "# of images that are misclassified by our current system. The first column\n",
    "# shows images that our system labeled as \"plane\" but whose true label is\n",
    "# something other than \"plane\".\n",
    "\n",
    "examples_per_class = 8\n",
    "classes = ['plane', 'car', 'bird', 'cat', 'deer', 'dog', 'frog', 'horse', 'ship', 'truck']\n",
    "for cls, cls_name in enumerate(classes):\n",
    "    idxs = np.where((y_test != cls) & (y_test_pred == cls))[0]\n",
    "    idxs = np.random.choice(idxs, examples_per_class, replace=False)\n",
    "    for i, idx in enumerate(idxs):\n",
    "        plt.subplot(examples_per_class, len(classes), i * len(classes) + cls + 1)\n",
    "        plt.imshow(X_test[idx].astype('uint8'))\n",
    "        plt.axis('off')\n",
    "        if i == 0:\n",
    "            plt.title(cls_name)\n",
    "plt.show()"
   ]
  },
  {
   "cell_type": "markdown",
   "metadata": {
    "tags": [
     "pdf-inline"
    ]
   },
   "source": [
    "### Inline question 1:\n",
    "Describe the misclassification results that you see. Do they make sense?\n",
    "\n",
    "\n",
    "$\\color{blue}{\\textit Your Answer:}$\n",
    "\n",
    "\n"
   ]
  },
  {
   "cell_type": "markdown",
   "metadata": {},
   "source": [
    "## Neural Network on image features\n",
    "Earlier in this assigment we saw that training a two-layer neural network on raw pixels achieved better classification performance than linear classifiers on raw pixels. In this notebook we have seen that linear classifiers on image features outperform linear classifiers on raw pixels. \n",
    "\n",
    "For completeness, we should also try training a neural network on image features. This approach should outperform all previous approaches: you should easily be able to achieve over 55% classification accuracy on the test set; our best model achieves about 60% classification accuracy."
   ]
  },
  {
   "cell_type": "code",
   "execution_count": null,
   "metadata": {
    "tags": [
     "pdf-ignore"
    ]
   },
   "outputs": [],
   "source": [
    "# Preprocessing: Remove the bias dimension\n",
    "# Make sure to run this cell only ONCE\n",
    "print(X_train_feats.shape)\n",
    "X_train_feats = X_train_feats[:, :-1]\n",
    "X_val_feats = X_val_feats[:, :-1]\n",
    "X_test_feats = X_test_feats[:, :-1]\n",
    "\n",
    "print(X_train_feats.shape)"
   ]
  },
  {
   "cell_type": "code",
   "execution_count": null,
   "metadata": {
    "tags": [
     "code"
    ]
   },
   "outputs": [],
   "source": [
    "from cs231n.classifiers.neural_net import TwoLayerNet\n",
    "\n",
    "input_dim = X_train_feats.shape[1]\n",
    "hidden_dim = 500\n",
    "num_classes = 10\n",
    "\n",
    "net = TwoLayerNet(input_dim, hidden_dim, num_classes)\n",
    "best_net = None\n",
    "\n",
    "################################################################################\n",
    "# TODO: Train a two-layer neural network on image features. You may want to    #\n",
    "# cross-validate various parameters as in previous sections. Store your best   #\n",
    "# model in the best_net variable.                                              #\n",
    "################################################################################\n",
    "# *****START OF YOUR CODE (DO NOT DELETE/MODIFY THIS LINE)*****\n",
    "\n",
    "pass\n",
    "\n",
    "# *****END OF YOUR CODE (DO NOT DELETE/MODIFY THIS LINE)*****\n"
   ]
  },
  {
   "cell_type": "code",
   "execution_count": null,
   "metadata": {},
   "outputs": [],
   "source": [
    "# Run your best neural net classifier on the test set. You should be able\n",
    "# to get more than 55% accuracy.\n",
    "\n",
    "test_acc = (best_net.predict(X_test_feats) == y_test).mean()\n",
    "print(test_acc)"
   ]
  }
 ],
 "metadata": {
  "kernelspec": {
   "display_name": "Python 3",
   "language": "python",
   "name": "python3"
  },
  "language_info": {
   "codemirror_mode": {
    "name": "ipython",
    "version": 3
   },
   "file_extension": ".py",
   "mimetype": "text/x-python",
   "name": "python",
   "nbconvert_exporter": "python",
   "pygments_lexer": "ipython3",
   "version": "3.7.4"
  }
 },
 "nbformat": 4,
 "nbformat_minor": 1
}
